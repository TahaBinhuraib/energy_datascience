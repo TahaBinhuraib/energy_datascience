{
 "cells": [
  {
   "cell_type": "code",
   "execution_count": 28,
   "id": "random-longitude",
   "metadata": {},
   "outputs": [
    {
     "name": "stdout",
     "output_type": "stream",
     "text": [
      "Index(['Saat', 'Yuk Tahmin Plani (MWh)', 'Ikili Anlasma (MWh)',\n",
      "       'PTF (TL/MWh)Okuma Yukumlulu', 'SAM (MWh)', 'SSM(MWh)', 'KGUP (MWh)',\n",
      "       'SMF (TL/MWh)', 'YAL (0) Kodlu (MWh)', 'YAL (1) Kodlu (MWh)',\n",
      "       'YAL (2) Kodlu (MWh)', 'YAL Teslim Edilmeyen (MWh)',\n",
      "       'YAT (0) Kodlu (MWh)', 'YAT (1) Kodlu (MWh)', 'YAT (2) Kodlu (MWh)',\n",
      "       'YAT Teslim Edilmeyen (MWh)', 'spread', 'target_load'],\n",
      "      dtype='object')\n",
      "26328\n"
     ]
    },
    {
     "data": {
      "text/plain": [
       "26328"
      ]
     },
     "execution_count": 28,
     "metadata": {},
     "output_type": "execute_result"
    }
   ],
   "source": [
    "import pandas as pd\n",
    "import numpy as np\n",
    "df = pd.read_csv('rawraw.csv' , delimiter= ',')\n",
    "df.columns\n",
    "df['spread'] = df['SMF (TL/MWh)'] - df['PTF (TL/MWh)Okuma Yukumlulu']    \n",
    "df['target_load'] = df['YAL (0) Kodlu (MWh)'] + df['YAL (1) Kodlu (MWh)'] + df['YAL (2) Kodlu (MWh)'] - df['YAL Teslim Edilmeyen (MWh)'] - df['YAT (0) Kodlu (MWh)'] - df['YAT (1) Kodlu (MWh)'] - df['YAT (2) Kodlu (MWh)'] + df['YAT Teslim Edilmeyen (MWh)']\n",
    "print(df.columns)\n",
    "df = df.fillna(0)\n",
    "print(len(df))\n",
    "df['Date'] = pd.date_range(start = '20180201' , freq = 'H' , periods = len(df))\n",
    "df = df[['Date' , 'target_load']]\n",
    "df.set_index('Date' , inplace = True)\n",
    "df = df.asfreq('h')\n",
    "len(df)\n"
   ]
  },
  {
   "cell_type": "code",
   "execution_count": 29,
   "id": "disabled-consumption",
   "metadata": {},
   "outputs": [
    {
     "data": {
      "text/html": [
       "<div>\n",
       "<style scoped>\n",
       "    .dataframe tbody tr th:only-of-type {\n",
       "        vertical-align: middle;\n",
       "    }\n",
       "\n",
       "    .dataframe tbody tr th {\n",
       "        vertical-align: top;\n",
       "    }\n",
       "\n",
       "    .dataframe thead th {\n",
       "        text-align: right;\n",
       "    }\n",
       "</style>\n",
       "<table border=\"1\" class=\"dataframe\">\n",
       "  <thead>\n",
       "    <tr style=\"text-align: right;\">\n",
       "      <th></th>\n",
       "      <th>target_load</th>\n",
       "      <th>sign</th>\n",
       "    </tr>\n",
       "    <tr>\n",
       "      <th>Date</th>\n",
       "      <th></th>\n",
       "      <th></th>\n",
       "    </tr>\n",
       "  </thead>\n",
       "  <tbody>\n",
       "    <tr>\n",
       "      <th>2018-02-01 00:00:00</th>\n",
       "      <td>49.25</td>\n",
       "      <td>1.0</td>\n",
       "    </tr>\n",
       "    <tr>\n",
       "      <th>2018-02-01 01:00:00</th>\n",
       "      <td>658.52</td>\n",
       "      <td>1.0</td>\n",
       "    </tr>\n",
       "    <tr>\n",
       "      <th>2018-02-01 02:00:00</th>\n",
       "      <td>0.00</td>\n",
       "      <td>0.0</td>\n",
       "    </tr>\n",
       "    <tr>\n",
       "      <th>2018-02-01 03:00:00</th>\n",
       "      <td>-788.52</td>\n",
       "      <td>-1.0</td>\n",
       "    </tr>\n",
       "    <tr>\n",
       "      <th>2018-02-01 04:00:00</th>\n",
       "      <td>-497.19</td>\n",
       "      <td>-1.0</td>\n",
       "    </tr>\n",
       "    <tr>\n",
       "      <th>...</th>\n",
       "      <td>...</td>\n",
       "      <td>...</td>\n",
       "    </tr>\n",
       "    <tr>\n",
       "      <th>2021-02-01 19:00:00</th>\n",
       "      <td>42.33</td>\n",
       "      <td>1.0</td>\n",
       "    </tr>\n",
       "    <tr>\n",
       "      <th>2021-02-01 20:00:00</th>\n",
       "      <td>71.76</td>\n",
       "      <td>1.0</td>\n",
       "    </tr>\n",
       "    <tr>\n",
       "      <th>2021-02-01 21:00:00</th>\n",
       "      <td>0.00</td>\n",
       "      <td>0.0</td>\n",
       "    </tr>\n",
       "    <tr>\n",
       "      <th>2021-02-01 22:00:00</th>\n",
       "      <td>808.70</td>\n",
       "      <td>1.0</td>\n",
       "    </tr>\n",
       "    <tr>\n",
       "      <th>2021-02-01 23:00:00</th>\n",
       "      <td>830.88</td>\n",
       "      <td>1.0</td>\n",
       "    </tr>\n",
       "  </tbody>\n",
       "</table>\n",
       "<p>26328 rows × 2 columns</p>\n",
       "</div>"
      ],
      "text/plain": [
       "                     target_load  sign\n",
       "Date                                  \n",
       "2018-02-01 00:00:00        49.25   1.0\n",
       "2018-02-01 01:00:00       658.52   1.0\n",
       "2018-02-01 02:00:00         0.00   0.0\n",
       "2018-02-01 03:00:00      -788.52  -1.0\n",
       "2018-02-01 04:00:00      -497.19  -1.0\n",
       "...                          ...   ...\n",
       "2021-02-01 19:00:00        42.33   1.0\n",
       "2021-02-01 20:00:00        71.76   1.0\n",
       "2021-02-01 21:00:00         0.00   0.0\n",
       "2021-02-01 22:00:00       808.70   1.0\n",
       "2021-02-01 23:00:00       830.88   1.0\n",
       "\n",
       "[26328 rows x 2 columns]"
      ]
     },
     "execution_count": 29,
     "metadata": {},
     "output_type": "execute_result"
    }
   ],
   "source": [
    "df['sign'] = np.sign(df['target_load'])\n",
    "df"
   ]
  },
  {
   "cell_type": "code",
   "execution_count": 30,
   "id": "mental-vulnerability",
   "metadata": {},
   "outputs": [
    {
     "data": {
      "text/html": [
       "<div>\n",
       "<style scoped>\n",
       "    .dataframe tbody tr th:only-of-type {\n",
       "        vertical-align: middle;\n",
       "    }\n",
       "\n",
       "    .dataframe tbody tr th {\n",
       "        vertical-align: top;\n",
       "    }\n",
       "\n",
       "    .dataframe thead th {\n",
       "        text-align: right;\n",
       "    }\n",
       "</style>\n",
       "<table border=\"1\" class=\"dataframe\">\n",
       "  <thead>\n",
       "    <tr style=\"text-align: right;\">\n",
       "      <th></th>\n",
       "      <th>target_load</th>\n",
       "      <th>sign</th>\n",
       "    </tr>\n",
       "    <tr>\n",
       "      <th>Date</th>\n",
       "      <th></th>\n",
       "      <th></th>\n",
       "    </tr>\n",
       "  </thead>\n",
       "  <tbody>\n",
       "    <tr>\n",
       "      <th>2018-02-01 00:00:00</th>\n",
       "      <td>49.25</td>\n",
       "      <td>1.0</td>\n",
       "    </tr>\n",
       "    <tr>\n",
       "      <th>2018-02-01 01:00:00</th>\n",
       "      <td>658.52</td>\n",
       "      <td>1.0</td>\n",
       "    </tr>\n",
       "    <tr>\n",
       "      <th>2018-02-01 02:00:00</th>\n",
       "      <td>0.00</td>\n",
       "      <td>0.0</td>\n",
       "    </tr>\n",
       "    <tr>\n",
       "      <th>2018-02-01 03:00:00</th>\n",
       "      <td>-788.52</td>\n",
       "      <td>0.0</td>\n",
       "    </tr>\n",
       "    <tr>\n",
       "      <th>2018-02-01 04:00:00</th>\n",
       "      <td>-497.19</td>\n",
       "      <td>0.0</td>\n",
       "    </tr>\n",
       "  </tbody>\n",
       "</table>\n",
       "</div>"
      ],
      "text/plain": [
       "                     target_load  sign\n",
       "Date                                  \n",
       "2018-02-01 00:00:00        49.25   1.0\n",
       "2018-02-01 01:00:00       658.52   1.0\n",
       "2018-02-01 02:00:00         0.00   0.0\n",
       "2018-02-01 03:00:00      -788.52   0.0\n",
       "2018-02-01 04:00:00      -497.19   0.0"
      ]
     },
     "execution_count": 30,
     "metadata": {},
     "output_type": "execute_result"
    }
   ],
   "source": [
    "df.sign = df.sign.mask(df.sign < 0, 0)\n",
    "df.head()"
   ]
  },
  {
   "cell_type": "code",
   "execution_count": null,
   "id": "moving-worst",
   "metadata": {},
   "outputs": [],
   "source": []
  },
  {
   "cell_type": "code",
   "execution_count": 14,
   "id": "capital-coverage",
   "metadata": {},
   "outputs": [],
   "source": [
    "df = df[['sign']]"
   ]
  },
  {
   "cell_type": "code",
   "execution_count": 31,
   "id": "identical-equivalent",
   "metadata": {},
   "outputs": [
    {
     "data": {
      "text/plain": [
       "<AxesSubplot:xlabel='Date'>"
      ]
     },
     "execution_count": 31,
     "metadata": {},
     "output_type": "execute_result"
    },
    {
     "data": {
      "image/png": "[encoded data removed]",
      "text/plain": [
       "<Figure size 1080x720 with 1 Axes>"
      ]
     },
     "metadata": {
      "needs_background": "light"
     },
     "output_type": "display_data"
    }
   ],
   "source": [
    "df['sign'].resample(rule = 'M').sum().plot.bar(figsize = (15,10))"
   ]
  },
  {
   "cell_type": "code",
   "execution_count": 32,
   "id": "unauthorized-claim",
   "metadata": {},
   "outputs": [
    {
     "data": {
      "text/plain": [
       "Date\n",
       "2018-02-28    378.0\n",
       "2018-03-31    427.0\n",
       "2018-04-30    395.0\n",
       "2018-05-31    415.0\n",
       "2018-06-30    465.0\n",
       "2018-07-31    555.0\n",
       "2018-08-31    579.0\n",
       "2018-09-30    482.0\n",
       "2018-10-31    411.0\n",
       "2018-11-30    518.0\n",
       "2018-12-31    527.0\n",
       "2019-01-31    220.0\n",
       "2019-02-28    461.0\n",
       "2019-03-31    331.0\n",
       "2019-04-30    396.0\n",
       "2019-05-31    473.0\n",
       "2019-06-30    353.0\n",
       "2019-07-31    384.0\n",
       "2019-08-31    430.0\n",
       "2019-09-30    344.0\n",
       "2019-10-31    408.0\n",
       "2019-11-30    467.0\n",
       "2019-12-31    410.0\n",
       "2020-01-31    436.0\n",
       "2020-02-29    293.0\n",
       "2020-03-31    292.0\n",
       "2020-04-30    268.0\n",
       "2020-05-31    343.0\n",
       "2020-06-30    481.0\n",
       "2020-07-31    528.0\n",
       "2020-08-31    447.0\n",
       "2020-09-30    547.0\n",
       "2020-10-31    483.0\n",
       "2020-11-30    326.0\n",
       "2020-12-31    375.0\n",
       "2021-01-31    439.0\n",
       "2021-02-28      9.0\n",
       "Freq: M, Name: sign, dtype: float64"
      ]
     },
     "execution_count": 32,
     "metadata": {},
     "output_type": "execute_result"
    }
   ],
   "source": [
    "monthly_upCounts = df['sign'].resample(rule = 'M').sum()\n",
    "monthly_upCounts"
   ]
  },
  {
   "cell_type": "code",
   "execution_count": 33,
   "id": "basic-crack",
   "metadata": {},
   "outputs": [
    {
     "data": {
      "text/plain": [
       "<AxesSubplot:xlabel='Date'>"
      ]
     },
     "execution_count": 33,
     "metadata": {},
     "output_type": "execute_result"
    },
    {
     "data": {
      "image/png": "[encoded data removed]",
      "text/plain": [
       "<Figure size 936x504 with 1 Axes>"
      ]
     },
     "metadata": {
      "needs_background": "light"
     },
     "output_type": "display_data"
    }
   ],
   "source": [
    "df['sign'].resample(rule = 'A').sum().plot.bar(figsize = (13,7))"
   ]
  },
  {
   "cell_type": "code",
   "execution_count": 43,
   "id": "accepting-wagon",
   "metadata": {},
   "outputs": [
    {
     "data": {
      "image/png": "[encoded data removed]",
      "text/plain": [
       "<Figure size 1080x600 with 1 Axes>"
      ]
     },
     "metadata": {
      "needs_background": "light"
     },
     "output_type": "display_data"
    }
   ],
   "source": [
    "import matplotlib.pyplot as plt\n",
    "\n",
    "df['year'] = [d.year for d in df.index]\n",
    "\n",
    "df['month'] = [d.strftime('%b') for d in df.index]\n",
    "years = df['year'].unique()\n",
    "df['hour'] = [d.strftime('%H') for d in df.index]\n",
    "df['WEEKDAY'] = pd.to_datetime(df.index).dayofweek\n",
    "df['weekend'] = 0          # Initialize the column with default value of 0\n",
    "df.loc[df['WEEKDAY'].isin([5, 6]), 'weekend'] = 1  # 5 and 6 correspond to Sat and Sun\n",
    "weekday_cnt = df['sign'].where(df['weekend'] == 0 ).sum()\n",
    "weekedn_cnt = df['sign'].where(df['weekend'] == 1 ).sum()\n",
    "cnt_dayType = {'Weekday':weekday_cnt , 'Weekend':weekedn_cnt}\n",
    "weektypeName = list(cnt_dayType.keys())\n",
    "weektypeValues = list(cnt_dayType.values())\n",
    "fig = plt.figure(figsize = (9, 5), dpi = 120) \n",
    "  \n",
    "# creating the bar plot \n",
    "plt.bar(weektypeName, weektypeValues) \n",
    "  \n",
    "plt.xlabel(\"Type\") \n",
    "plt.ylabel(\"count\") \n",
    "plt.show() "
   ]
  },
  {
   "cell_type": "code",
   "execution_count": 56,
   "id": "variable-emperor",
   "metadata": {},
   "outputs": [
    {
     "data": {
      "text/plain": [
       "{0: 0.5650212314225053,\n",
       " 1: 0.6212606837606838,\n",
       " 2: 0.6014957264957265,\n",
       " 3: 0.6178343949044586,\n",
       " 4: 0.5851910828025477,\n",
       " 5: 0.5459129511677282,\n",
       " 6: 0.4774416135881104}"
      ]
     },
     "execution_count": 56,
     "metadata": {},
     "output_type": "execute_result"
    }
   ],
   "source": [
    "weekdays = [0,1,2,3,4,5,6]\n",
    "weekdays_cnts = {}\n",
    "for i in weekdays:\n",
    "    weekdays_cnts[i] = df['sign'].where(df['WEEKDAY'] == i ).sum()/len(df['sign'].where(df['WEEKDAY'] == i).dropna())\n",
    "weekdays_cnts"
   ]
  },
  {
   "cell_type": "code",
   "execution_count": 53,
   "id": "greater-french",
   "metadata": {},
   "outputs": [
    {
     "data": {
      "text/plain": [
       "0.5650212314225053"
      ]
     },
     "execution_count": 53,
     "metadata": {},
     "output_type": "execute_result"
    }
   ],
   "source": [
    "df['sign'].where(df['WEEKDAY'] == 0 ).sum()/len(df['sign'].where(df['WEEKDAY'] == 0).dropna())"
   ]
  },
  {
   "cell_type": "code",
   "execution_count": 47,
   "id": "impaired-flower",
   "metadata": {},
   "outputs": [
    {
     "data": {
      "text/plain": [
       "2129.0"
      ]
     },
     "execution_count": 47,
     "metadata": {},
     "output_type": "execute_result"
    }
   ],
   "source": [
    "df['sign'].where(df['WEEKDAY'] == 0 ).sum()"
   ]
  },
  {
   "cell_type": "code",
   "execution_count": 54,
   "id": "instant-butler",
   "metadata": {},
   "outputs": [
    {
     "data": {
      "text/plain": [
       "3768"
      ]
     },
     "execution_count": 54,
     "metadata": {},
     "output_type": "execute_result"
    }
   ],
   "source": [
    "len(df['sign'].where(df['WEEKDAY'] == 0).dropna())"
   ]
  },
  {
   "cell_type": "code",
   "execution_count": 57,
   "id": "constant-arabic",
   "metadata": {},
   "outputs": [
    {
     "data": {
      "text/plain": [
       "Text(0, 0.5, 'mean')"
      ]
     },
     "execution_count": 57,
     "metadata": {},
     "output_type": "execute_result"
    },
    {
     "data": {
      "image/png": "[encoded data removed]",
      "text/plain": [
       "<Figure size 1080x480 with 1 Axes>"
      ]
     },
     "metadata": {
      "needs_background": "light"
     },
     "output_type": "display_data"
    }
   ],
   "source": [
    "dayNumber = list(weekdays_cnts.keys())\n",
    "cnts_weekday = list(weekdays_cnts.values())\n",
    "fig = plt.figure(figsize = (9,4),dpi = 120)\n",
    "plt.bar(dayNumber , cnts_weekday)\n",
    "plt.xlabel(\"weekday\")\n",
    "plt.ylabel('mean')"
   ]
  },
  {
   "cell_type": "code",
   "execution_count": 38,
   "id": "verified-genome",
   "metadata": {},
   "outputs": [
    {
     "data": {
      "text/plain": [
       "array(['00', '01', '02', '03', '04', '05', '06', '07', '08', '09', '10',\n",
       "       '11', '12', '13', '14', '15', '16', '17', '18', '19', '20', '21',\n",
       "       '22', '23'], dtype=object)"
      ]
     },
     "execution_count": 38,
     "metadata": {},
     "output_type": "execute_result"
    }
   ],
   "source": [
    "hours = df.hour.unique()\n",
    "hours"
   ]
  },
  {
   "cell_type": "code",
   "execution_count": 58,
   "id": "universal-cherry",
   "metadata": {},
   "outputs": [],
   "source": [
    "hours_cnts = {}\n",
    "for i in hours:\n",
    "    hours_cnts[i] = df['sign'].where(df['hour'] == i).sum()/len(df['sign'].where(df['hour'] == i).dropna())\n"
   ]
  },
  {
   "cell_type": "code",
   "execution_count": 59,
   "id": "special-period",
   "metadata": {},
   "outputs": [
    {
     "data": {
      "text/plain": [
       "Text(0, 0.5, 'counts_up')"
      ]
     },
     "execution_count": 59,
     "metadata": {},
     "output_type": "execute_result"
    },
    {
     "data": {
      "image/png": "[encoded data removed]",
      "text/plain": [
       "<Figure size 1080x480 with 1 Axes>"
      ]
     },
     "metadata": {
      "needs_background": "light"
     },
     "output_type": "display_data"
    }
   ],
   "source": [
    "hourNumber = list(hours_cnts.keys())\n",
    "cnts_hours = list(hours_cnts.values())\n",
    "fig = plt.figure(figsize = (9,4) , dpi = 120)\n",
    "plt.bar(hourNumber , cnts_hours)\n",
    "plt.xlabel(\"hour\")\n",
    "plt.ylabel('counts_up')"
   ]
  },
  {
   "cell_type": "code",
   "execution_count": null,
   "id": "important-young",
   "metadata": {},
   "outputs": [],
   "source": []
  }
 ],
 "metadata": {
  "kernelspec": {
   "display_name": "Python 3",
   "language": "python",
   "name": "python3"
  },
  "language_info": {
   "codemirror_mode": {
    "name": "ipython",
    "version": 3
   },
   "file_extension": ".py",
   "mimetype": "text/x-python",
   "name": "python",
   "nbconvert_exporter": "python",
   "pygments_lexer": "ipython3",
   "version": "3.8.8"
  }
 },
 "nbformat": 4,
 "nbformat_minor": 5
}
